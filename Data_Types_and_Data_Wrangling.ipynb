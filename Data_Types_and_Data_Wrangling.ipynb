{
  "nbformat": 4,
  "nbformat_minor": 0,
  "metadata": {
    "colab": {
      "name": "Data Types and Data Wrangling ",
      "provenance": [],
      "collapsed_sections": [],
      "authorship_tag": "ABX9TyNd6y5PshoH29rgeCVvnFAv",
      "include_colab_link": true
    },
    "kernelspec": {
      "name": "python3",
      "display_name": "Python 3"
    }
  },
  "cells": [
    {
      "cell_type": "markdown",
      "metadata": {
        "id": "view-in-github",
        "colab_type": "text"
      },
      "source": [
        "<a href=\"https://colab.research.google.com/github/AllEternal/Hamoye-Lessons-and-Quiz/blob/master/Data_Types_and_Data_Wrangling.ipynb\" target=\"_parent\"><img src=\"https://colab.research.google.com/assets/colab-badge.svg\" alt=\"Open In Colab\"/></a>"
      ]
    },
    {
      "cell_type": "code",
      "metadata": {
        "id": "y9kymY6jTATp",
        "colab_type": "code",
        "colab": {}
      },
      "source": [
        "import numpy as np\n",
        "import pandas as pd\n"
      ],
      "execution_count": null,
      "outputs": []
    },
    {
      "cell_type": "code",
      "metadata": {
        "id": "4DDKGbOXUsxC",
        "colab_type": "code",
        "colab": {}
      },
      "source": [
        "url='https://github.com/WalePhenomenon/climate_change/blob/master/fuel_ferc1.csv?raw=true'"
      ],
      "execution_count": null,
      "outputs": []
    },
    {
      "cell_type": "code",
      "metadata": {
        "id": "BdsYqNqHXdV8",
        "colab_type": "code",
        "colab": {
          "base_uri": "https://localhost:8080/",
          "height": 390
        },
        "outputId": "c3baae25-546f-4e58-b3cd-4453bda3dfc4"
      },
      "source": [
        "fuel_data = pd.read_csv(url, error_bad_lines=False)\n",
        "fuel_data.describe (include='all')"
      ],
      "execution_count": null,
      "outputs": [
        {
          "output_type": "execute_result",
          "data": {
            "text/html": [
              "<div>\n",
              "<style scoped>\n",
              "    .dataframe tbody tr th:only-of-type {\n",
              "        vertical-align: middle;\n",
              "    }\n",
              "\n",
              "    .dataframe tbody tr th {\n",
              "        vertical-align: top;\n",
              "    }\n",
              "\n",
              "    .dataframe thead th {\n",
              "        text-align: right;\n",
              "    }\n",
              "</style>\n",
              "<table border=\"1\" class=\"dataframe\">\n",
              "  <thead>\n",
              "    <tr style=\"text-align: right;\">\n",
              "      <th></th>\n",
              "      <th>record_id</th>\n",
              "      <th>utility_id_ferc1</th>\n",
              "      <th>report_year</th>\n",
              "      <th>plant_name_ferc1</th>\n",
              "      <th>fuel_type_code_pudl</th>\n",
              "      <th>fuel_unit</th>\n",
              "      <th>fuel_qty_burned</th>\n",
              "      <th>fuel_mmbtu_per_unit</th>\n",
              "      <th>fuel_cost_per_unit_burned</th>\n",
              "      <th>fuel_cost_per_unit_delivered</th>\n",
              "      <th>fuel_cost_per_mmbtu</th>\n",
              "    </tr>\n",
              "  </thead>\n",
              "  <tbody>\n",
              "    <tr>\n",
              "      <th>count</th>\n",
              "      <td>29523</td>\n",
              "      <td>29523.000000</td>\n",
              "      <td>29523.000000</td>\n",
              "      <td>29523</td>\n",
              "      <td>29523</td>\n",
              "      <td>29343</td>\n",
              "      <td>2.952300e+04</td>\n",
              "      <td>29523.000000</td>\n",
              "      <td>29523.000000</td>\n",
              "      <td>2.952300e+04</td>\n",
              "      <td>29523.000000</td>\n",
              "    </tr>\n",
              "    <tr>\n",
              "      <th>unique</th>\n",
              "      <td>29523</td>\n",
              "      <td>NaN</td>\n",
              "      <td>NaN</td>\n",
              "      <td>2315</td>\n",
              "      <td>6</td>\n",
              "      <td>9</td>\n",
              "      <td>NaN</td>\n",
              "      <td>NaN</td>\n",
              "      <td>NaN</td>\n",
              "      <td>NaN</td>\n",
              "      <td>NaN</td>\n",
              "    </tr>\n",
              "    <tr>\n",
              "      <th>top</th>\n",
              "      <td>f1_fuel_1999_12_24_0_1</td>\n",
              "      <td>NaN</td>\n",
              "      <td>NaN</td>\n",
              "      <td>big stone</td>\n",
              "      <td>gas</td>\n",
              "      <td>mcf</td>\n",
              "      <td>NaN</td>\n",
              "      <td>NaN</td>\n",
              "      <td>NaN</td>\n",
              "      <td>NaN</td>\n",
              "      <td>NaN</td>\n",
              "    </tr>\n",
              "    <tr>\n",
              "      <th>freq</th>\n",
              "      <td>1</td>\n",
              "      <td>NaN</td>\n",
              "      <td>NaN</td>\n",
              "      <td>156</td>\n",
              "      <td>11486</td>\n",
              "      <td>11354</td>\n",
              "      <td>NaN</td>\n",
              "      <td>NaN</td>\n",
              "      <td>NaN</td>\n",
              "      <td>NaN</td>\n",
              "      <td>NaN</td>\n",
              "    </tr>\n",
              "    <tr>\n",
              "      <th>mean</th>\n",
              "      <td>NaN</td>\n",
              "      <td>118.601836</td>\n",
              "      <td>2005.806050</td>\n",
              "      <td>NaN</td>\n",
              "      <td>NaN</td>\n",
              "      <td>NaN</td>\n",
              "      <td>2.622119e+06</td>\n",
              "      <td>8.492111</td>\n",
              "      <td>208.649031</td>\n",
              "      <td>9.175704e+02</td>\n",
              "      <td>19.304354</td>\n",
              "    </tr>\n",
              "    <tr>\n",
              "      <th>std</th>\n",
              "      <td>NaN</td>\n",
              "      <td>74.178353</td>\n",
              "      <td>7.025483</td>\n",
              "      <td>NaN</td>\n",
              "      <td>NaN</td>\n",
              "      <td>NaN</td>\n",
              "      <td>9.118004e+06</td>\n",
              "      <td>10.600220</td>\n",
              "      <td>2854.490090</td>\n",
              "      <td>6.877593e+04</td>\n",
              "      <td>2091.540939</td>\n",
              "    </tr>\n",
              "    <tr>\n",
              "      <th>min</th>\n",
              "      <td>NaN</td>\n",
              "      <td>1.000000</td>\n",
              "      <td>1994.000000</td>\n",
              "      <td>NaN</td>\n",
              "      <td>NaN</td>\n",
              "      <td>NaN</td>\n",
              "      <td>1.000000e+00</td>\n",
              "      <td>0.000001</td>\n",
              "      <td>-276.080000</td>\n",
              "      <td>-8.749370e+02</td>\n",
              "      <td>-41.501000</td>\n",
              "    </tr>\n",
              "    <tr>\n",
              "      <th>25%</th>\n",
              "      <td>NaN</td>\n",
              "      <td>55.000000</td>\n",
              "      <td>2000.000000</td>\n",
              "      <td>NaN</td>\n",
              "      <td>NaN</td>\n",
              "      <td>NaN</td>\n",
              "      <td>1.381700e+04</td>\n",
              "      <td>1.024000</td>\n",
              "      <td>5.207000</td>\n",
              "      <td>3.778500e+00</td>\n",
              "      <td>1.940000</td>\n",
              "    </tr>\n",
              "    <tr>\n",
              "      <th>50%</th>\n",
              "      <td>NaN</td>\n",
              "      <td>122.000000</td>\n",
              "      <td>2006.000000</td>\n",
              "      <td>NaN</td>\n",
              "      <td>NaN</td>\n",
              "      <td>NaN</td>\n",
              "      <td>2.533220e+05</td>\n",
              "      <td>5.762694</td>\n",
              "      <td>26.000000</td>\n",
              "      <td>1.737100e+01</td>\n",
              "      <td>4.127000</td>\n",
              "    </tr>\n",
              "    <tr>\n",
              "      <th>75%</th>\n",
              "      <td>NaN</td>\n",
              "      <td>176.000000</td>\n",
              "      <td>2012.000000</td>\n",
              "      <td>NaN</td>\n",
              "      <td>NaN</td>\n",
              "      <td>NaN</td>\n",
              "      <td>1.424034e+06</td>\n",
              "      <td>17.006000</td>\n",
              "      <td>47.113000</td>\n",
              "      <td>4.213700e+01</td>\n",
              "      <td>7.745000</td>\n",
              "    </tr>\n",
              "    <tr>\n",
              "      <th>max</th>\n",
              "      <td>NaN</td>\n",
              "      <td>514.000000</td>\n",
              "      <td>2018.000000</td>\n",
              "      <td>NaN</td>\n",
              "      <td>NaN</td>\n",
              "      <td>NaN</td>\n",
              "      <td>5.558942e+08</td>\n",
              "      <td>341.260000</td>\n",
              "      <td>139358.000000</td>\n",
              "      <td>7.964521e+06</td>\n",
              "      <td>359278.000000</td>\n",
              "    </tr>\n",
              "  </tbody>\n",
              "</table>\n",
              "</div>"
            ],
            "text/plain": [
              "                     record_id  ...  fuel_cost_per_mmbtu\n",
              "count                    29523  ...         29523.000000\n",
              "unique                   29523  ...                  NaN\n",
              "top     f1_fuel_1999_12_24_0_1  ...                  NaN\n",
              "freq                         1  ...                  NaN\n",
              "mean                       NaN  ...            19.304354\n",
              "std                        NaN  ...          2091.540939\n",
              "min                        NaN  ...           -41.501000\n",
              "25%                        NaN  ...             1.940000\n",
              "50%                        NaN  ...             4.127000\n",
              "75%                        NaN  ...             7.745000\n",
              "max                        NaN  ...        359278.000000\n",
              "\n",
              "[11 rows x 11 columns]"
            ]
          },
          "metadata": {
            "tags": []
          },
          "execution_count": 17
        }
      ]
    },
    {
      "cell_type": "code",
      "metadata": {
        "id": "uNl6jhmJX_wO",
        "colab_type": "code",
        "colab": {
          "base_uri": "https://localhost:8080/",
          "height": 204
        },
        "outputId": "ef5f9ce0-85ae-4b47-d1a7-2954c1c54552"
      },
      "source": [
        "fuel_data.head()"
      ],
      "execution_count": null,
      "outputs": [
        {
          "output_type": "execute_result",
          "data": {
            "text/html": [
              "<div>\n",
              "<style scoped>\n",
              "    .dataframe tbody tr th:only-of-type {\n",
              "        vertical-align: middle;\n",
              "    }\n",
              "\n",
              "    .dataframe tbody tr th {\n",
              "        vertical-align: top;\n",
              "    }\n",
              "\n",
              "    .dataframe thead th {\n",
              "        text-align: right;\n",
              "    }\n",
              "</style>\n",
              "<table border=\"1\" class=\"dataframe\">\n",
              "  <thead>\n",
              "    <tr style=\"text-align: right;\">\n",
              "      <th></th>\n",
              "      <th>record_id</th>\n",
              "      <th>utility_id_ferc1</th>\n",
              "      <th>report_year</th>\n",
              "      <th>plant_name_ferc1</th>\n",
              "      <th>fuel_type_code_pudl</th>\n",
              "      <th>fuel_unit</th>\n",
              "      <th>fuel_qty_burned</th>\n",
              "      <th>fuel_mmbtu_per_unit</th>\n",
              "      <th>fuel_cost_per_unit_burned</th>\n",
              "      <th>fuel_cost_per_unit_delivered</th>\n",
              "      <th>fuel_cost_per_mmbtu</th>\n",
              "    </tr>\n",
              "  </thead>\n",
              "  <tbody>\n",
              "    <tr>\n",
              "      <th>0</th>\n",
              "      <td>f1_fuel_1994_12_1_0_7</td>\n",
              "      <td>1</td>\n",
              "      <td>1994</td>\n",
              "      <td>rockport</td>\n",
              "      <td>coal</td>\n",
              "      <td>ton</td>\n",
              "      <td>5377489.0</td>\n",
              "      <td>16.590</td>\n",
              "      <td>18.59</td>\n",
              "      <td>18.53</td>\n",
              "      <td>1.121</td>\n",
              "    </tr>\n",
              "    <tr>\n",
              "      <th>1</th>\n",
              "      <td>f1_fuel_1994_12_1_0_10</td>\n",
              "      <td>1</td>\n",
              "      <td>1994</td>\n",
              "      <td>rockport total plant</td>\n",
              "      <td>coal</td>\n",
              "      <td>ton</td>\n",
              "      <td>10486945.0</td>\n",
              "      <td>16.592</td>\n",
              "      <td>18.58</td>\n",
              "      <td>18.53</td>\n",
              "      <td>1.120</td>\n",
              "    </tr>\n",
              "    <tr>\n",
              "      <th>2</th>\n",
              "      <td>f1_fuel_1994_12_2_0_1</td>\n",
              "      <td>2</td>\n",
              "      <td>1994</td>\n",
              "      <td>gorgas</td>\n",
              "      <td>coal</td>\n",
              "      <td>ton</td>\n",
              "      <td>2978683.0</td>\n",
              "      <td>24.130</td>\n",
              "      <td>39.72</td>\n",
              "      <td>38.12</td>\n",
              "      <td>1.650</td>\n",
              "    </tr>\n",
              "    <tr>\n",
              "      <th>3</th>\n",
              "      <td>f1_fuel_1994_12_2_0_7</td>\n",
              "      <td>2</td>\n",
              "      <td>1994</td>\n",
              "      <td>barry</td>\n",
              "      <td>coal</td>\n",
              "      <td>ton</td>\n",
              "      <td>3739484.0</td>\n",
              "      <td>23.950</td>\n",
              "      <td>47.21</td>\n",
              "      <td>45.99</td>\n",
              "      <td>1.970</td>\n",
              "    </tr>\n",
              "    <tr>\n",
              "      <th>4</th>\n",
              "      <td>f1_fuel_1994_12_2_0_10</td>\n",
              "      <td>2</td>\n",
              "      <td>1994</td>\n",
              "      <td>chickasaw</td>\n",
              "      <td>gas</td>\n",
              "      <td>mcf</td>\n",
              "      <td>40533.0</td>\n",
              "      <td>1.000</td>\n",
              "      <td>2.77</td>\n",
              "      <td>2.77</td>\n",
              "      <td>2.570</td>\n",
              "    </tr>\n",
              "  </tbody>\n",
              "</table>\n",
              "</div>"
            ],
            "text/plain": [
              "                record_id  ...  fuel_cost_per_mmbtu\n",
              "0   f1_fuel_1994_12_1_0_7  ...                1.121\n",
              "1  f1_fuel_1994_12_1_0_10  ...                1.120\n",
              "2   f1_fuel_1994_12_2_0_1  ...                1.650\n",
              "3   f1_fuel_1994_12_2_0_7  ...                1.970\n",
              "4  f1_fuel_1994_12_2_0_10  ...                2.570\n",
              "\n",
              "[5 rows x 11 columns]"
            ]
          },
          "metadata": {
            "tags": []
          },
          "execution_count": 16
        }
      ]
    },
    {
      "cell_type": "markdown",
      "metadata": {
        "id": "V3XGbd9wbaDi",
        "colab_type": "text"
      },
      "source": [
        "# Check For Missing Values"
      ]
    },
    {
      "cell_type": "code",
      "metadata": {
        "id": "9tk0Nl7zativ",
        "colab_type": "code",
        "colab": {
          "base_uri": "https://localhost:8080/",
          "height": 221
        },
        "outputId": "da51f2c0-e6ac-4506-bd91-4f578b1d3bad"
      },
      "source": [
        "fuel_data.isnull().sum()"
      ],
      "execution_count": null,
      "outputs": [
        {
          "output_type": "execute_result",
          "data": {
            "text/plain": [
              "record_id                         0\n",
              "utility_id_ferc1                  0\n",
              "report_year                       0\n",
              "plant_name_ferc1                  0\n",
              "fuel_type_code_pudl               0\n",
              "fuel_unit                       180\n",
              "fuel_qty_burned                   0\n",
              "fuel_mmbtu_per_unit               0\n",
              "fuel_cost_per_unit_burned         0\n",
              "fuel_cost_per_unit_delivered      0\n",
              "fuel_cost_per_mmbtu               0\n",
              "dtype: int64"
            ]
          },
          "metadata": {
            "tags": []
          },
          "execution_count": 19
        }
      ]
    },
    {
      "cell_type": "markdown",
      "metadata": {
        "id": "ILxdT3gRbuSg",
        "colab_type": "text"
      },
      "source": [
        "# Use Groupby to Count The Sum of Each Unique Value in The Fuel Unit Column"
      ]
    },
    {
      "cell_type": "code",
      "metadata": {
        "id": "PSKVEauWb77L",
        "colab_type": "code",
        "colab": {
          "base_uri": "https://localhost:8080/",
          "height": 204
        },
        "outputId": "ce215f2b-e15e-4c81-ed63-13afee41f3ab"
      },
      "source": [
        "fuel_data.groupby('fuel_unit')['fuel_unit'].count()"
      ],
      "execution_count": null,
      "outputs": [
        {
          "output_type": "execute_result",
          "data": {
            "text/plain": [
              "fuel_unit\n",
              "bbl        7998\n",
              "gal          84\n",
              "gramsU      464\n",
              "kgU         110\n",
              "mcf       11534\n",
              "mmbtu       180\n",
              "mwdth        95\n",
              "mwhth       100\n",
              "ton        8958\n",
              "Name: fuel_unit, dtype: int64"
            ]
          },
          "metadata": {
            "tags": []
          },
          "execution_count": 25
        }
      ]
    },
    {
      "cell_type": "code",
      "metadata": {
        "id": "4Xt3ti6UcoqE",
        "colab_type": "code",
        "colab": {}
      },
      "source": [
        "fuel_data[['fuel_unit']] = fuel_data[['fuel_unit']].fillna(value='mcf')"
      ],
      "execution_count": null,
      "outputs": []
    },
    {
      "cell_type": "markdown",
      "metadata": {
        "id": "CVicFKYffL5E",
        "colab_type": "text"
      },
      "source": [
        "# Check if Missing Values Have Been Filled"
      ]
    },
    {
      "cell_type": "code",
      "metadata": {
        "id": "uuopSHf-f6yA",
        "colab_type": "code",
        "colab": {
          "base_uri": "https://localhost:8080/",
          "height": 221
        },
        "outputId": "71a07e94-1ab5-498b-ec85-8787a4386d62"
      },
      "source": [
        "fuel_data.isnull().sum()"
      ],
      "execution_count": null,
      "outputs": [
        {
          "output_type": "execute_result",
          "data": {
            "text/plain": [
              "record_id                       0\n",
              "utility_id_ferc1                0\n",
              "report_year                     0\n",
              "plant_name_ferc1                0\n",
              "fuel_type_code_pudl             0\n",
              "fuel_unit                       0\n",
              "fuel_qty_burned                 0\n",
              "fuel_mmbtu_per_unit             0\n",
              "fuel_cost_per_unit_burned       0\n",
              "fuel_cost_per_unit_delivered    0\n",
              "fuel_cost_per_mmbtu             0\n",
              "dtype: int64"
            ]
          },
          "metadata": {
            "tags": []
          },
          "execution_count": 26
        }
      ]
    },
    {
      "cell_type": "code",
      "metadata": {
        "id": "7ZTYDXc1gLz1",
        "colab_type": "code",
        "colab": {
          "base_uri": "https://localhost:8080/",
          "height": 476
        },
        "outputId": "b684eaf4-fcf0-4704-936a-6512f4ee6435"
      },
      "source": [
        "fuel_data.groupby('report_year')['report_year'].count()"
      ],
      "execution_count": null,
      "outputs": [
        {
          "output_type": "execute_result",
          "data": {
            "text/plain": [
              "report_year\n",
              "1994    1235\n",
              "1995    1201\n",
              "1996    1088\n",
              "1997    1094\n",
              "1998    1107\n",
              "1999    1050\n",
              "2000    1373\n",
              "2001    1356\n",
              "2002    1205\n",
              "2003    1211\n",
              "2004    1192\n",
              "2005    1269\n",
              "2006    1243\n",
              "2007    1264\n",
              "2008    1228\n",
              "2009    1222\n",
              "2010    1261\n",
              "2011    1240\n",
              "2012    1243\n",
              "2013    1199\n",
              "2014    1171\n",
              "2015    1093\n",
              "2016    1034\n",
              "2017     993\n",
              "2018     951\n",
              "Name: report_year, dtype: int64"
            ]
          },
          "metadata": {
            "tags": []
          },
          "execution_count": 29
        }
      ]
    },
    {
      "cell_type": "markdown",
      "metadata": {
        "id": "dwkvukFYhlXR",
        "colab_type": "text"
      },
      "source": [
        "# group by the fuel type code year and print the first entries in all the groups formed\n"
      ]
    },
    {
      "cell_type": "code",
      "metadata": {
        "id": "kypxWaMUhs-7",
        "colab_type": "code",
        "colab": {
          "base_uri": "https://localhost:8080/",
          "height": 266
        },
        "outputId": "3475d6e3-df20-4217-c85d-25854560a5b4"
      },
      "source": [
        "fuel_data.groupby('fuel_type_code_pudl').first()"
      ],
      "execution_count": null,
      "outputs": [
        {
          "output_type": "execute_result",
          "data": {
            "text/html": [
              "<div>\n",
              "<style scoped>\n",
              "    .dataframe tbody tr th:only-of-type {\n",
              "        vertical-align: middle;\n",
              "    }\n",
              "\n",
              "    .dataframe tbody tr th {\n",
              "        vertical-align: top;\n",
              "    }\n",
              "\n",
              "    .dataframe thead th {\n",
              "        text-align: right;\n",
              "    }\n",
              "</style>\n",
              "<table border=\"1\" class=\"dataframe\">\n",
              "  <thead>\n",
              "    <tr style=\"text-align: right;\">\n",
              "      <th></th>\n",
              "      <th>record_id</th>\n",
              "      <th>utility_id_ferc1</th>\n",
              "      <th>report_year</th>\n",
              "      <th>plant_name_ferc1</th>\n",
              "      <th>fuel_unit</th>\n",
              "      <th>fuel_qty_burned</th>\n",
              "      <th>fuel_mmbtu_per_unit</th>\n",
              "      <th>fuel_cost_per_unit_burned</th>\n",
              "      <th>fuel_cost_per_unit_delivered</th>\n",
              "      <th>fuel_cost_per_mmbtu</th>\n",
              "    </tr>\n",
              "    <tr>\n",
              "      <th>fuel_type_code_pudl</th>\n",
              "      <th></th>\n",
              "      <th></th>\n",
              "      <th></th>\n",
              "      <th></th>\n",
              "      <th></th>\n",
              "      <th></th>\n",
              "      <th></th>\n",
              "      <th></th>\n",
              "      <th></th>\n",
              "      <th></th>\n",
              "    </tr>\n",
              "  </thead>\n",
              "  <tbody>\n",
              "    <tr>\n",
              "      <th>coal</th>\n",
              "      <td>f1_fuel_1994_12_1_0_7</td>\n",
              "      <td>1</td>\n",
              "      <td>1994</td>\n",
              "      <td>rockport</td>\n",
              "      <td>ton</td>\n",
              "      <td>5377489.0</td>\n",
              "      <td>16.590000</td>\n",
              "      <td>18.590</td>\n",
              "      <td>18.530</td>\n",
              "      <td>1.121</td>\n",
              "    </tr>\n",
              "    <tr>\n",
              "      <th>gas</th>\n",
              "      <td>f1_fuel_1994_12_2_0_10</td>\n",
              "      <td>2</td>\n",
              "      <td>1994</td>\n",
              "      <td>chickasaw</td>\n",
              "      <td>mcf</td>\n",
              "      <td>40533.0</td>\n",
              "      <td>1.000000</td>\n",
              "      <td>2.770</td>\n",
              "      <td>2.770</td>\n",
              "      <td>2.570</td>\n",
              "    </tr>\n",
              "    <tr>\n",
              "      <th>nuclear</th>\n",
              "      <td>f1_fuel_1994_12_2_1_1</td>\n",
              "      <td>2</td>\n",
              "      <td>1994</td>\n",
              "      <td>joseph m. farley</td>\n",
              "      <td>kgU</td>\n",
              "      <td>2260.0</td>\n",
              "      <td>0.064094</td>\n",
              "      <td>28.770</td>\n",
              "      <td>0.000</td>\n",
              "      <td>0.450</td>\n",
              "    </tr>\n",
              "    <tr>\n",
              "      <th>oil</th>\n",
              "      <td>f1_fuel_1994_12_6_0_2</td>\n",
              "      <td>6</td>\n",
              "      <td>1994</td>\n",
              "      <td>clinch river</td>\n",
              "      <td>bbl</td>\n",
              "      <td>6510.0</td>\n",
              "      <td>5.875338</td>\n",
              "      <td>32.130</td>\n",
              "      <td>23.444</td>\n",
              "      <td>5.469</td>\n",
              "    </tr>\n",
              "    <tr>\n",
              "      <th>other</th>\n",
              "      <td>f1_fuel_1994_12_11_0_6</td>\n",
              "      <td>11</td>\n",
              "      <td>1994</td>\n",
              "      <td>w.f. wyman</td>\n",
              "      <td>bbl</td>\n",
              "      <td>55652.0</td>\n",
              "      <td>0.149719</td>\n",
              "      <td>14.685</td>\n",
              "      <td>15.090</td>\n",
              "      <td>2.335</td>\n",
              "    </tr>\n",
              "    <tr>\n",
              "      <th>waste</th>\n",
              "      <td>f1_fuel_1994_12_9_0_3</td>\n",
              "      <td>9</td>\n",
              "      <td>1994</td>\n",
              "      <td>b.l. england</td>\n",
              "      <td>ton</td>\n",
              "      <td>2438.0</td>\n",
              "      <td>0.015939</td>\n",
              "      <td>34.180</td>\n",
              "      <td>34.180</td>\n",
              "      <td>1.072</td>\n",
              "    </tr>\n",
              "  </tbody>\n",
              "</table>\n",
              "</div>"
            ],
            "text/plain": [
              "                                  record_id  ...  fuel_cost_per_mmbtu\n",
              "fuel_type_code_pudl                          ...                     \n",
              "coal                  f1_fuel_1994_12_1_0_7  ...                1.121\n",
              "gas                  f1_fuel_1994_12_2_0_10  ...                2.570\n",
              "nuclear               f1_fuel_1994_12_2_1_1  ...                0.450\n",
              "oil                   f1_fuel_1994_12_6_0_2  ...                5.469\n",
              "other                f1_fuel_1994_12_11_0_6  ...                2.335\n",
              "waste                 f1_fuel_1994_12_9_0_3  ...                1.072\n",
              "\n",
              "[6 rows x 10 columns]"
            ]
          },
          "metadata": {
            "tags": []
          },
          "execution_count": 32
        }
      ]
    },
    {
      "cell_type": "markdown",
      "metadata": {
        "id": "dNoWz5DPkwP7",
        "colab_type": "text"
      },
      "source": [
        "# Merging in Panda"
      ]
    },
    {
      "cell_type": "code",
      "metadata": {
        "id": "MDceWkeejVOp",
        "colab_type": "code",
        "colab": {}
      },
      "source": [
        "fuel_df1 = fuel_data.iloc[0:19000].reset_index(drop=True)\n",
        "fuel_df2 = fuel_data.iloc[19000:].reset_index(drop = True)"
      ],
      "execution_count": null,
      "outputs": []
    },
    {
      "cell_type": "markdown",
      "metadata": {
        "id": "jMFulUeipajP",
        "colab_type": "text"
      },
      "source": [
        "# Check That The Length of Both DataFrames Sum to The Expected Length"
      ]
    },
    {
      "cell_type": "code",
      "metadata": {
        "id": "JGvrqSRypYjr",
        "colab_type": "code",
        "colab": {}
      },
      "source": [
        "assert len(fuel_data) == (len(fuel_df1)) + (len(fuel_df2))"
      ],
      "execution_count": null,
      "outputs": []
    },
    {
      "cell_type": "code",
      "metadata": {
        "id": "0epza7wguMyp",
        "colab_type": "code",
        "colab": {
          "base_uri": "https://localhost:8080/",
          "height": 204
        },
        "outputId": "57a69e87-c8b1-4ab2-c23b-56192057c9bd"
      },
      "source": [
        "fuel_df1.head()"
      ],
      "execution_count": null,
      "outputs": [
        {
          "output_type": "execute_result",
          "data": {
            "text/html": [
              "<div>\n",
              "<style scoped>\n",
              "    .dataframe tbody tr th:only-of-type {\n",
              "        vertical-align: middle;\n",
              "    }\n",
              "\n",
              "    .dataframe tbody tr th {\n",
              "        vertical-align: top;\n",
              "    }\n",
              "\n",
              "    .dataframe thead th {\n",
              "        text-align: right;\n",
              "    }\n",
              "</style>\n",
              "<table border=\"1\" class=\"dataframe\">\n",
              "  <thead>\n",
              "    <tr style=\"text-align: right;\">\n",
              "      <th></th>\n",
              "      <th>record_id</th>\n",
              "      <th>utility_id_ferc1</th>\n",
              "      <th>report_year</th>\n",
              "      <th>plant_name_ferc1</th>\n",
              "      <th>fuel_type_code_pudl</th>\n",
              "      <th>fuel_unit</th>\n",
              "      <th>fuel_qty_burned</th>\n",
              "      <th>fuel_mmbtu_per_unit</th>\n",
              "      <th>fuel_cost_per_unit_burned</th>\n",
              "      <th>fuel_cost_per_unit_delivered</th>\n",
              "      <th>fuel_cost_per_mmbtu</th>\n",
              "    </tr>\n",
              "  </thead>\n",
              "  <tbody>\n",
              "    <tr>\n",
              "      <th>0</th>\n",
              "      <td>f1_fuel_1994_12_1_0_7</td>\n",
              "      <td>1</td>\n",
              "      <td>1994</td>\n",
              "      <td>rockport</td>\n",
              "      <td>coal</td>\n",
              "      <td>ton</td>\n",
              "      <td>5377489.0</td>\n",
              "      <td>16.590</td>\n",
              "      <td>18.59</td>\n",
              "      <td>18.53</td>\n",
              "      <td>1.121</td>\n",
              "    </tr>\n",
              "    <tr>\n",
              "      <th>1</th>\n",
              "      <td>f1_fuel_1994_12_1_0_10</td>\n",
              "      <td>1</td>\n",
              "      <td>1994</td>\n",
              "      <td>rockport total plant</td>\n",
              "      <td>coal</td>\n",
              "      <td>ton</td>\n",
              "      <td>10486945.0</td>\n",
              "      <td>16.592</td>\n",
              "      <td>18.58</td>\n",
              "      <td>18.53</td>\n",
              "      <td>1.120</td>\n",
              "    </tr>\n",
              "    <tr>\n",
              "      <th>2</th>\n",
              "      <td>f1_fuel_1994_12_2_0_1</td>\n",
              "      <td>2</td>\n",
              "      <td>1994</td>\n",
              "      <td>gorgas</td>\n",
              "      <td>coal</td>\n",
              "      <td>ton</td>\n",
              "      <td>2978683.0</td>\n",
              "      <td>24.130</td>\n",
              "      <td>39.72</td>\n",
              "      <td>38.12</td>\n",
              "      <td>1.650</td>\n",
              "    </tr>\n",
              "    <tr>\n",
              "      <th>3</th>\n",
              "      <td>f1_fuel_1994_12_2_0_7</td>\n",
              "      <td>2</td>\n",
              "      <td>1994</td>\n",
              "      <td>barry</td>\n",
              "      <td>coal</td>\n",
              "      <td>ton</td>\n",
              "      <td>3739484.0</td>\n",
              "      <td>23.950</td>\n",
              "      <td>47.21</td>\n",
              "      <td>45.99</td>\n",
              "      <td>1.970</td>\n",
              "    </tr>\n",
              "    <tr>\n",
              "      <th>4</th>\n",
              "      <td>f1_fuel_1994_12_2_0_10</td>\n",
              "      <td>2</td>\n",
              "      <td>1994</td>\n",
              "      <td>chickasaw</td>\n",
              "      <td>gas</td>\n",
              "      <td>mcf</td>\n",
              "      <td>40533.0</td>\n",
              "      <td>1.000</td>\n",
              "      <td>2.77</td>\n",
              "      <td>2.77</td>\n",
              "      <td>2.570</td>\n",
              "    </tr>\n",
              "  </tbody>\n",
              "</table>\n",
              "</div>"
            ],
            "text/plain": [
              "                record_id  ...  fuel_cost_per_mmbtu\n",
              "0   f1_fuel_1994_12_1_0_7  ...                1.121\n",
              "1  f1_fuel_1994_12_1_0_10  ...                1.120\n",
              "2   f1_fuel_1994_12_2_0_1  ...                1.650\n",
              "3   f1_fuel_1994_12_2_0_7  ...                1.970\n",
              "4  f1_fuel_1994_12_2_0_10  ...                2.570\n",
              "\n",
              "[5 rows x 11 columns]"
            ]
          },
          "metadata": {
            "tags": []
          },
          "execution_count": 40
        }
      ]
    },
    {
      "cell_type": "code",
      "metadata": {
        "id": "xZPYAHTZuWEG",
        "colab_type": "code",
        "colab": {
          "base_uri": "https://localhost:8080/",
          "height": 204
        },
        "outputId": "15ef847e-eaeb-43f2-9511-aaeeeb949321"
      },
      "source": [
        "fuel_df2.head()"
      ],
      "execution_count": null,
      "outputs": [
        {
          "output_type": "execute_result",
          "data": {
            "text/html": [
              "<div>\n",
              "<style scoped>\n",
              "    .dataframe tbody tr th:only-of-type {\n",
              "        vertical-align: middle;\n",
              "    }\n",
              "\n",
              "    .dataframe tbody tr th {\n",
              "        vertical-align: top;\n",
              "    }\n",
              "\n",
              "    .dataframe thead th {\n",
              "        text-align: right;\n",
              "    }\n",
              "</style>\n",
              "<table border=\"1\" class=\"dataframe\">\n",
              "  <thead>\n",
              "    <tr style=\"text-align: right;\">\n",
              "      <th></th>\n",
              "      <th>record_id</th>\n",
              "      <th>utility_id_ferc1</th>\n",
              "      <th>report_year</th>\n",
              "      <th>plant_name_ferc1</th>\n",
              "      <th>fuel_type_code_pudl</th>\n",
              "      <th>fuel_unit</th>\n",
              "      <th>fuel_qty_burned</th>\n",
              "      <th>fuel_mmbtu_per_unit</th>\n",
              "      <th>fuel_cost_per_unit_burned</th>\n",
              "      <th>fuel_cost_per_unit_delivered</th>\n",
              "      <th>fuel_cost_per_mmbtu</th>\n",
              "    </tr>\n",
              "  </thead>\n",
              "  <tbody>\n",
              "    <tr>\n",
              "      <th>0</th>\n",
              "      <td>f1_fuel_2009_12_79_0_2</td>\n",
              "      <td>79</td>\n",
              "      <td>2009</td>\n",
              "      <td>montrose</td>\n",
              "      <td>oil</td>\n",
              "      <td>bbl</td>\n",
              "      <td>22912.0</td>\n",
              "      <td>5.770422</td>\n",
              "      <td>65.443</td>\n",
              "      <td>67.540</td>\n",
              "      <td>11.341</td>\n",
              "    </tr>\n",
              "    <tr>\n",
              "      <th>1</th>\n",
              "      <td>f1_fuel_2009_12_79_0_4</td>\n",
              "      <td>79</td>\n",
              "      <td>2009</td>\n",
              "      <td>hawthorn 5</td>\n",
              "      <td>coal</td>\n",
              "      <td>ton</td>\n",
              "      <td>2408123.0</td>\n",
              "      <td>16.782000</td>\n",
              "      <td>18.598</td>\n",
              "      <td>18.310</td>\n",
              "      <td>1.108</td>\n",
              "    </tr>\n",
              "    <tr>\n",
              "      <th>2</th>\n",
              "      <td>f1_fuel_2009_12_79_0_5</td>\n",
              "      <td>79</td>\n",
              "      <td>2009</td>\n",
              "      <td>hawthorn 5</td>\n",
              "      <td>gas</td>\n",
              "      <td>mcf</td>\n",
              "      <td>82141.0</td>\n",
              "      <td>1.000000</td>\n",
              "      <td>6.238</td>\n",
              "      <td>6.238</td>\n",
              "      <td>6.238</td>\n",
              "    </tr>\n",
              "    <tr>\n",
              "      <th>3</th>\n",
              "      <td>f1_fuel_2009_12_79_0_7</td>\n",
              "      <td>79</td>\n",
              "      <td>2009</td>\n",
              "      <td>hawthorn 6 &amp; 9</td>\n",
              "      <td>gas</td>\n",
              "      <td>mcf</td>\n",
              "      <td>1701680.0</td>\n",
              "      <td>1.000000</td>\n",
              "      <td>4.885</td>\n",
              "      <td>4.885</td>\n",
              "      <td>4.885</td>\n",
              "    </tr>\n",
              "    <tr>\n",
              "      <th>4</th>\n",
              "      <td>f1_fuel_2009_12_79_0_10</td>\n",
              "      <td>79</td>\n",
              "      <td>2009</td>\n",
              "      <td>hawthorn 7 &amp; 8</td>\n",
              "      <td>gas</td>\n",
              "      <td>mcf</td>\n",
              "      <td>82601.0</td>\n",
              "      <td>1.000000</td>\n",
              "      <td>5.383</td>\n",
              "      <td>5.383</td>\n",
              "      <td>5.383</td>\n",
              "    </tr>\n",
              "  </tbody>\n",
              "</table>\n",
              "</div>"
            ],
            "text/plain": [
              "                 record_id  ...  fuel_cost_per_mmbtu\n",
              "0   f1_fuel_2009_12_79_0_2  ...               11.341\n",
              "1   f1_fuel_2009_12_79_0_4  ...                1.108\n",
              "2   f1_fuel_2009_12_79_0_5  ...                6.238\n",
              "3   f1_fuel_2009_12_79_0_7  ...                4.885\n",
              "4  f1_fuel_2009_12_79_0_10  ...                5.383\n",
              "\n",
              "[5 rows x 11 columns]"
            ]
          },
          "metadata": {
            "tags": []
          },
          "execution_count": 41
        }
      ]
    },
    {
      "cell_type": "markdown",
      "metadata": {
        "id": "68tcHzUHtWtF",
        "colab_type": "text"
      },
      "source": [
        "# Inner Merge will Lose Rows That do not Match in Both DataFrames"
      ]
    },
    {
      "cell_type": "code",
      "metadata": {
        "id": "_HuQObq5trUU",
        "colab_type": "code",
        "colab": {
          "base_uri": "https://localhost:8080/",
          "height": 49
        },
        "outputId": "e48870d3-a7ed-4a38-dd79-b7ff874506b3"
      },
      "source": [
        "pd.merge(fuel_df1, fuel_df2, how=\"inner\")"
      ],
      "execution_count": null,
      "outputs": [
        {
          "output_type": "execute_result",
          "data": {
            "text/html": [
              "<div>\n",
              "<style scoped>\n",
              "    .dataframe tbody tr th:only-of-type {\n",
              "        vertical-align: middle;\n",
              "    }\n",
              "\n",
              "    .dataframe tbody tr th {\n",
              "        vertical-align: top;\n",
              "    }\n",
              "\n",
              "    .dataframe thead th {\n",
              "        text-align: right;\n",
              "    }\n",
              "</style>\n",
              "<table border=\"1\" class=\"dataframe\">\n",
              "  <thead>\n",
              "    <tr style=\"text-align: right;\">\n",
              "      <th></th>\n",
              "      <th>record_id</th>\n",
              "      <th>utility_id_ferc1</th>\n",
              "      <th>report_year</th>\n",
              "      <th>plant_name_ferc1</th>\n",
              "      <th>fuel_type_code_pudl</th>\n",
              "      <th>fuel_unit</th>\n",
              "      <th>fuel_qty_burned</th>\n",
              "      <th>fuel_mmbtu_per_unit</th>\n",
              "      <th>fuel_cost_per_unit_burned</th>\n",
              "      <th>fuel_cost_per_unit_delivered</th>\n",
              "      <th>fuel_cost_per_mmbtu</th>\n",
              "    </tr>\n",
              "  </thead>\n",
              "  <tbody>\n",
              "  </tbody>\n",
              "</table>\n",
              "</div>"
            ],
            "text/plain": [
              "Empty DataFrame\n",
              "Columns: [record_id, utility_id_ferc1, report_year, plant_name_ferc1, fuel_type_code_pudl, fuel_unit, fuel_qty_burned, fuel_mmbtu_per_unit, fuel_cost_per_unit_burned, fuel_cost_per_unit_delivered, fuel_cost_per_mmbtu]\n",
              "Index: []"
            ]
          },
          "metadata": {
            "tags": []
          },
          "execution_count": 43
        }
      ]
    },
    {
      "cell_type": "markdown",
      "metadata": {
        "id": "XOaVcjguv0FE",
        "colab_type": "text"
      },
      "source": [
        "# Outer Merge Returns all Rows in Both Frames"
      ]
    },
    {
      "cell_type": "code",
      "metadata": {
        "id": "FhKwAEwjvFve",
        "colab_type": "code",
        "colab": {
          "base_uri": "https://localhost:8080/",
          "height": 419
        },
        "outputId": "2a009eb2-1267-4770-d78c-8397e01f725e"
      },
      "source": [
        "pd.merge(fuel_df1, fuel_df2, how=\"outer\")"
      ],
      "execution_count": null,
      "outputs": [
        {
          "output_type": "execute_result",
          "data": {
            "text/html": [
              "<div>\n",
              "<style scoped>\n",
              "    .dataframe tbody tr th:only-of-type {\n",
              "        vertical-align: middle;\n",
              "    }\n",
              "\n",
              "    .dataframe tbody tr th {\n",
              "        vertical-align: top;\n",
              "    }\n",
              "\n",
              "    .dataframe thead th {\n",
              "        text-align: right;\n",
              "    }\n",
              "</style>\n",
              "<table border=\"1\" class=\"dataframe\">\n",
              "  <thead>\n",
              "    <tr style=\"text-align: right;\">\n",
              "      <th></th>\n",
              "      <th>record_id</th>\n",
              "      <th>utility_id_ferc1</th>\n",
              "      <th>report_year</th>\n",
              "      <th>plant_name_ferc1</th>\n",
              "      <th>fuel_type_code_pudl</th>\n",
              "      <th>fuel_unit</th>\n",
              "      <th>fuel_qty_burned</th>\n",
              "      <th>fuel_mmbtu_per_unit</th>\n",
              "      <th>fuel_cost_per_unit_burned</th>\n",
              "      <th>fuel_cost_per_unit_delivered</th>\n",
              "      <th>fuel_cost_per_mmbtu</th>\n",
              "    </tr>\n",
              "  </thead>\n",
              "  <tbody>\n",
              "    <tr>\n",
              "      <th>0</th>\n",
              "      <td>f1_fuel_1994_12_1_0_7</td>\n",
              "      <td>1</td>\n",
              "      <td>1994</td>\n",
              "      <td>rockport</td>\n",
              "      <td>coal</td>\n",
              "      <td>ton</td>\n",
              "      <td>5377489.0</td>\n",
              "      <td>16.590</td>\n",
              "      <td>18.59</td>\n",
              "      <td>18.53</td>\n",
              "      <td>1.121</td>\n",
              "    </tr>\n",
              "    <tr>\n",
              "      <th>1</th>\n",
              "      <td>f1_fuel_1994_12_1_0_10</td>\n",
              "      <td>1</td>\n",
              "      <td>1994</td>\n",
              "      <td>rockport total plant</td>\n",
              "      <td>coal</td>\n",
              "      <td>ton</td>\n",
              "      <td>10486945.0</td>\n",
              "      <td>16.592</td>\n",
              "      <td>18.58</td>\n",
              "      <td>18.53</td>\n",
              "      <td>1.120</td>\n",
              "    </tr>\n",
              "    <tr>\n",
              "      <th>2</th>\n",
              "      <td>f1_fuel_1994_12_2_0_1</td>\n",
              "      <td>2</td>\n",
              "      <td>1994</td>\n",
              "      <td>gorgas</td>\n",
              "      <td>coal</td>\n",
              "      <td>ton</td>\n",
              "      <td>2978683.0</td>\n",
              "      <td>24.130</td>\n",
              "      <td>39.72</td>\n",
              "      <td>38.12</td>\n",
              "      <td>1.650</td>\n",
              "    </tr>\n",
              "    <tr>\n",
              "      <th>3</th>\n",
              "      <td>f1_fuel_1994_12_2_0_7</td>\n",
              "      <td>2</td>\n",
              "      <td>1994</td>\n",
              "      <td>barry</td>\n",
              "      <td>coal</td>\n",
              "      <td>ton</td>\n",
              "      <td>3739484.0</td>\n",
              "      <td>23.950</td>\n",
              "      <td>47.21</td>\n",
              "      <td>45.99</td>\n",
              "      <td>1.970</td>\n",
              "    </tr>\n",
              "    <tr>\n",
              "      <th>4</th>\n",
              "      <td>f1_fuel_1994_12_2_0_10</td>\n",
              "      <td>2</td>\n",
              "      <td>1994</td>\n",
              "      <td>chickasaw</td>\n",
              "      <td>gas</td>\n",
              "      <td>mcf</td>\n",
              "      <td>40533.0</td>\n",
              "      <td>1.000</td>\n",
              "      <td>2.77</td>\n",
              "      <td>2.77</td>\n",
              "      <td>2.570</td>\n",
              "    </tr>\n",
              "    <tr>\n",
              "      <th>...</th>\n",
              "      <td>...</td>\n",
              "      <td>...</td>\n",
              "      <td>...</td>\n",
              "      <td>...</td>\n",
              "      <td>...</td>\n",
              "      <td>...</td>\n",
              "      <td>...</td>\n",
              "      <td>...</td>\n",
              "      <td>...</td>\n",
              "      <td>...</td>\n",
              "      <td>...</td>\n",
              "    </tr>\n",
              "    <tr>\n",
              "      <th>29518</th>\n",
              "      <td>f1_fuel_2018_12_12_0_13</td>\n",
              "      <td>12</td>\n",
              "      <td>2018</td>\n",
              "      <td>neil simpson ct #1</td>\n",
              "      <td>gas</td>\n",
              "      <td>mcf</td>\n",
              "      <td>18799.0</td>\n",
              "      <td>1.059</td>\n",
              "      <td>4.78</td>\n",
              "      <td>4.78</td>\n",
              "      <td>9.030</td>\n",
              "    </tr>\n",
              "    <tr>\n",
              "      <th>29519</th>\n",
              "      <td>f1_fuel_2018_12_12_1_1</td>\n",
              "      <td>12</td>\n",
              "      <td>2018</td>\n",
              "      <td>cheyenne prairie 58%</td>\n",
              "      <td>gas</td>\n",
              "      <td>mcf</td>\n",
              "      <td>806730.0</td>\n",
              "      <td>1.050</td>\n",
              "      <td>3.65</td>\n",
              "      <td>3.65</td>\n",
              "      <td>6.950</td>\n",
              "    </tr>\n",
              "    <tr>\n",
              "      <th>29520</th>\n",
              "      <td>f1_fuel_2018_12_12_1_10</td>\n",
              "      <td>12</td>\n",
              "      <td>2018</td>\n",
              "      <td>lange ct facility</td>\n",
              "      <td>gas</td>\n",
              "      <td>mcf</td>\n",
              "      <td>104554.0</td>\n",
              "      <td>1.060</td>\n",
              "      <td>4.77</td>\n",
              "      <td>4.77</td>\n",
              "      <td>8.990</td>\n",
              "    </tr>\n",
              "    <tr>\n",
              "      <th>29521</th>\n",
              "      <td>f1_fuel_2018_12_12_1_13</td>\n",
              "      <td>12</td>\n",
              "      <td>2018</td>\n",
              "      <td>wygen 3 bhp 52%</td>\n",
              "      <td>coal</td>\n",
              "      <td>ton</td>\n",
              "      <td>315945.0</td>\n",
              "      <td>16.108</td>\n",
              "      <td>3.06</td>\n",
              "      <td>14.76</td>\n",
              "      <td>1.110</td>\n",
              "    </tr>\n",
              "    <tr>\n",
              "      <th>29522</th>\n",
              "      <td>f1_fuel_2018_12_12_1_14</td>\n",
              "      <td>12</td>\n",
              "      <td>2018</td>\n",
              "      <td>wygen 3 bhp 52%</td>\n",
              "      <td>gas</td>\n",
              "      <td>mcf</td>\n",
              "      <td>17853.0</td>\n",
              "      <td>1.059</td>\n",
              "      <td>0.00</td>\n",
              "      <td>0.00</td>\n",
              "      <td>11.680</td>\n",
              "    </tr>\n",
              "  </tbody>\n",
              "</table>\n",
              "<p>29523 rows × 11 columns</p>\n",
              "</div>"
            ],
            "text/plain": [
              "                     record_id  ...  fuel_cost_per_mmbtu\n",
              "0        f1_fuel_1994_12_1_0_7  ...                1.121\n",
              "1       f1_fuel_1994_12_1_0_10  ...                1.120\n",
              "2        f1_fuel_1994_12_2_0_1  ...                1.650\n",
              "3        f1_fuel_1994_12_2_0_7  ...                1.970\n",
              "4       f1_fuel_1994_12_2_0_10  ...                2.570\n",
              "...                        ...  ...                  ...\n",
              "29518  f1_fuel_2018_12_12_0_13  ...                9.030\n",
              "29519   f1_fuel_2018_12_12_1_1  ...                6.950\n",
              "29520  f1_fuel_2018_12_12_1_10  ...                8.990\n",
              "29521  f1_fuel_2018_12_12_1_13  ...                1.110\n",
              "29522  f1_fuel_2018_12_12_1_14  ...               11.680\n",
              "\n",
              "[29523 rows x 11 columns]"
            ]
          },
          "metadata": {
            "tags": []
          },
          "execution_count": 46
        }
      ]
    },
    {
      "cell_type": "markdown",
      "metadata": {
        "id": "we2g2yODwHb6",
        "colab_type": "text"
      },
      "source": [
        "# Remove Rows From Right dataFrame That do not Mtach With Left DataFrame and Keep all Rows From the Left"
      ]
    },
    {
      "cell_type": "code",
      "metadata": {
        "id": "KPpNflUYwr6d",
        "colab_type": "code",
        "colab": {
          "base_uri": "https://localhost:8080/",
          "height": 419
        },
        "outputId": "61bcb27a-f765-4a68-f2ce-b0ba7ef93e62"
      },
      "source": [
        "pd.merge(fuel_df1, fuel_df2, how=\"left\")"
      ],
      "execution_count": null,
      "outputs": [
        {
          "output_type": "execute_result",
          "data": {
            "text/html": [
              "<div>\n",
              "<style scoped>\n",
              "    .dataframe tbody tr th:only-of-type {\n",
              "        vertical-align: middle;\n",
              "    }\n",
              "\n",
              "    .dataframe tbody tr th {\n",
              "        vertical-align: top;\n",
              "    }\n",
              "\n",
              "    .dataframe thead th {\n",
              "        text-align: right;\n",
              "    }\n",
              "</style>\n",
              "<table border=\"1\" class=\"dataframe\">\n",
              "  <thead>\n",
              "    <tr style=\"text-align: right;\">\n",
              "      <th></th>\n",
              "      <th>record_id</th>\n",
              "      <th>utility_id_ferc1</th>\n",
              "      <th>report_year</th>\n",
              "      <th>plant_name_ferc1</th>\n",
              "      <th>fuel_type_code_pudl</th>\n",
              "      <th>fuel_unit</th>\n",
              "      <th>fuel_qty_burned</th>\n",
              "      <th>fuel_mmbtu_per_unit</th>\n",
              "      <th>fuel_cost_per_unit_burned</th>\n",
              "      <th>fuel_cost_per_unit_delivered</th>\n",
              "      <th>fuel_cost_per_mmbtu</th>\n",
              "    </tr>\n",
              "  </thead>\n",
              "  <tbody>\n",
              "    <tr>\n",
              "      <th>0</th>\n",
              "      <td>f1_fuel_1994_12_1_0_7</td>\n",
              "      <td>1</td>\n",
              "      <td>1994</td>\n",
              "      <td>rockport</td>\n",
              "      <td>coal</td>\n",
              "      <td>ton</td>\n",
              "      <td>5377489.0</td>\n",
              "      <td>16.590000</td>\n",
              "      <td>18.590</td>\n",
              "      <td>18.530</td>\n",
              "      <td>1.121</td>\n",
              "    </tr>\n",
              "    <tr>\n",
              "      <th>1</th>\n",
              "      <td>f1_fuel_1994_12_1_0_10</td>\n",
              "      <td>1</td>\n",
              "      <td>1994</td>\n",
              "      <td>rockport total plant</td>\n",
              "      <td>coal</td>\n",
              "      <td>ton</td>\n",
              "      <td>10486945.0</td>\n",
              "      <td>16.592000</td>\n",
              "      <td>18.580</td>\n",
              "      <td>18.530</td>\n",
              "      <td>1.120</td>\n",
              "    </tr>\n",
              "    <tr>\n",
              "      <th>2</th>\n",
              "      <td>f1_fuel_1994_12_2_0_1</td>\n",
              "      <td>2</td>\n",
              "      <td>1994</td>\n",
              "      <td>gorgas</td>\n",
              "      <td>coal</td>\n",
              "      <td>ton</td>\n",
              "      <td>2978683.0</td>\n",
              "      <td>24.130000</td>\n",
              "      <td>39.720</td>\n",
              "      <td>38.120</td>\n",
              "      <td>1.650</td>\n",
              "    </tr>\n",
              "    <tr>\n",
              "      <th>3</th>\n",
              "      <td>f1_fuel_1994_12_2_0_7</td>\n",
              "      <td>2</td>\n",
              "      <td>1994</td>\n",
              "      <td>barry</td>\n",
              "      <td>coal</td>\n",
              "      <td>ton</td>\n",
              "      <td>3739484.0</td>\n",
              "      <td>23.950000</td>\n",
              "      <td>47.210</td>\n",
              "      <td>45.990</td>\n",
              "      <td>1.970</td>\n",
              "    </tr>\n",
              "    <tr>\n",
              "      <th>4</th>\n",
              "      <td>f1_fuel_1994_12_2_0_10</td>\n",
              "      <td>2</td>\n",
              "      <td>1994</td>\n",
              "      <td>chickasaw</td>\n",
              "      <td>gas</td>\n",
              "      <td>mcf</td>\n",
              "      <td>40533.0</td>\n",
              "      <td>1.000000</td>\n",
              "      <td>2.770</td>\n",
              "      <td>2.770</td>\n",
              "      <td>2.570</td>\n",
              "    </tr>\n",
              "    <tr>\n",
              "      <th>...</th>\n",
              "      <td>...</td>\n",
              "      <td>...</td>\n",
              "      <td>...</td>\n",
              "      <td>...</td>\n",
              "      <td>...</td>\n",
              "      <td>...</td>\n",
              "      <td>...</td>\n",
              "      <td>...</td>\n",
              "      <td>...</td>\n",
              "      <td>...</td>\n",
              "      <td>...</td>\n",
              "    </tr>\n",
              "    <tr>\n",
              "      <th>18995</th>\n",
              "      <td>f1_fuel_2009_12_182_1_9</td>\n",
              "      <td>182</td>\n",
              "      <td>2009</td>\n",
              "      <td>lake road</td>\n",
              "      <td>gas</td>\n",
              "      <td>mcf</td>\n",
              "      <td>340857.0</td>\n",
              "      <td>1.000000</td>\n",
              "      <td>4.711</td>\n",
              "      <td>4.711</td>\n",
              "      <td>4.711</td>\n",
              "    </tr>\n",
              "    <tr>\n",
              "      <th>18996</th>\n",
              "      <td>f1_fuel_2009_12_182_1_10</td>\n",
              "      <td>182</td>\n",
              "      <td>2009</td>\n",
              "      <td>lake road</td>\n",
              "      <td>oil</td>\n",
              "      <td>mcf</td>\n",
              "      <td>771.0</td>\n",
              "      <td>5.801544</td>\n",
              "      <td>84.899</td>\n",
              "      <td>84.899</td>\n",
              "      <td>14.634</td>\n",
              "    </tr>\n",
              "    <tr>\n",
              "      <th>18997</th>\n",
              "      <td>f1_fuel_2009_12_182_1_13</td>\n",
              "      <td>182</td>\n",
              "      <td>2009</td>\n",
              "      <td>iatan (18%)</td>\n",
              "      <td>coal</td>\n",
              "      <td>ton</td>\n",
              "      <td>414142.0</td>\n",
              "      <td>16.718000</td>\n",
              "      <td>18.509</td>\n",
              "      <td>17.570</td>\n",
              "      <td>1.107</td>\n",
              "    </tr>\n",
              "    <tr>\n",
              "      <th>18998</th>\n",
              "      <td>f1_fuel_2009_12_182_1_14</td>\n",
              "      <td>182</td>\n",
              "      <td>2009</td>\n",
              "      <td>iatan (18%)</td>\n",
              "      <td>oil</td>\n",
              "      <td>bbl</td>\n",
              "      <td>5761.0</td>\n",
              "      <td>5.537910</td>\n",
              "      <td>83.636</td>\n",
              "      <td>72.280</td>\n",
              "      <td>15.102</td>\n",
              "    </tr>\n",
              "    <tr>\n",
              "      <th>18999</th>\n",
              "      <td>f1_fuel_2009_12_79_0_1</td>\n",
              "      <td>79</td>\n",
              "      <td>2009</td>\n",
              "      <td>montrose</td>\n",
              "      <td>coal</td>\n",
              "      <td>ton</td>\n",
              "      <td>2050919.0</td>\n",
              "      <td>17.160000</td>\n",
              "      <td>29.629</td>\n",
              "      <td>28.330</td>\n",
              "      <td>1.727</td>\n",
              "    </tr>\n",
              "  </tbody>\n",
              "</table>\n",
              "<p>19000 rows × 11 columns</p>\n",
              "</div>"
            ],
            "text/plain": [
              "                      record_id  ...  fuel_cost_per_mmbtu\n",
              "0         f1_fuel_1994_12_1_0_7  ...                1.121\n",
              "1        f1_fuel_1994_12_1_0_10  ...                1.120\n",
              "2         f1_fuel_1994_12_2_0_1  ...                1.650\n",
              "3         f1_fuel_1994_12_2_0_7  ...                1.970\n",
              "4        f1_fuel_1994_12_2_0_10  ...                2.570\n",
              "...                         ...  ...                  ...\n",
              "18995   f1_fuel_2009_12_182_1_9  ...                4.711\n",
              "18996  f1_fuel_2009_12_182_1_10  ...               14.634\n",
              "18997  f1_fuel_2009_12_182_1_13  ...                1.107\n",
              "18998  f1_fuel_2009_12_182_1_14  ...               15.102\n",
              "18999    f1_fuel_2009_12_79_0_1  ...                1.727\n",
              "\n",
              "[19000 rows x 11 columns]"
            ]
          },
          "metadata": {
            "tags": []
          },
          "execution_count": 47
        }
      ]
    },
    {
      "cell_type": "markdown",
      "metadata": {
        "id": "WefAVqpIyQ-k",
        "colab_type": "text"
      },
      "source": [
        "# Concatenation"
      ]
    },
    {
      "cell_type": "code",
      "metadata": {
        "id": "PDQ5yM48yWcr",
        "colab_type": "code",
        "colab": {
          "base_uri": "https://localhost:8080/",
          "height": 163
        },
        "outputId": "118ff2fb-689c-4e23-df72-4984869f29a9"
      },
      "source": [
        "pd.concat([fuel_data, data_to_concat]).reset_index(drop=True)"
      ],
      "execution_count": null,
      "outputs": [
        {
          "output_type": "error",
          "ename": "NameError",
          "evalue": "ignored",
          "traceback": [
            "\u001b[0;31m---------------------------------------------------------------------------\u001b[0m",
            "\u001b[0;31mNameError\u001b[0m                                 Traceback (most recent call last)",
            "\u001b[0;32m<ipython-input-50-34276b6eef94>\u001b[0m in \u001b[0;36m<module>\u001b[0;34m()\u001b[0m\n\u001b[0;32m----> 1\u001b[0;31m \u001b[0mpd\u001b[0m\u001b[0;34m.\u001b[0m\u001b[0mconcat\u001b[0m\u001b[0;34m(\u001b[0m\u001b[0;34m[\u001b[0m\u001b[0mfuel_data\u001b[0m\u001b[0;34m,\u001b[0m \u001b[0mdata_to_concat\u001b[0m\u001b[0;34m]\u001b[0m\u001b[0;34m)\u001b[0m\u001b[0;34m.\u001b[0m\u001b[0mreset_index\u001b[0m\u001b[0;34m(\u001b[0m\u001b[0mdrop\u001b[0m\u001b[0;34m=\u001b[0m\u001b[0;32mTrue\u001b[0m\u001b[0;34m)\u001b[0m\u001b[0;34m\u001b[0m\u001b[0;34m\u001b[0m\u001b[0m\n\u001b[0m",
            "\u001b[0;31mNameError\u001b[0m: name 'data_to_concat' is not defined"
          ]
        }
      ]
    },
    {
      "cell_type": "markdown",
      "metadata": {
        "id": "mxWSO0f6zbAw",
        "colab_type": "text"
      },
      "source": [
        "# Check For Duplicate Rows"
      ]
    },
    {
      "cell_type": "code",
      "metadata": {
        "id": "Y3XD2TTQzicw",
        "colab_type": "code",
        "colab": {
          "base_uri": "https://localhost:8080/",
          "height": 34
        },
        "outputId": "bcad6d0e-673b-49ef-fe27-4c23a24d87af"
      },
      "source": [
        "fuel_data.duplicated().any()"
      ],
      "execution_count": null,
      "outputs": [
        {
          "output_type": "execute_result",
          "data": {
            "text/plain": [
              "False"
            ]
          },
          "metadata": {
            "tags": []
          },
          "execution_count": 52
        }
      ]
    }
  ]
}